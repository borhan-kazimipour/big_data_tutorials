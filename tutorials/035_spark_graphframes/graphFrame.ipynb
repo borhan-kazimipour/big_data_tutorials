{
 "cells": [
  {
   "cell_type": "markdown",
   "metadata": {},
   "source": [
    "# GraphFrame Examples"
   ]
  },
  {
   "cell_type": "markdown",
   "metadata": {},
   "source": [
    "There are two ways of importing GraphFrame into Spylon Notebook:\n",
    "\n",
    "### Option 1:\n",
    "```scala\n",
    "%%init_spark\n",
    "launcher.jars = [\"/home/tutorials/035_spark_graphframes/graphframes-0.8.0-spark2.4-s_2.11.jar\"]\n",
    "```\n",
    "\n",
    "#### Option 2:\n",
    "```scala\n",
    "%%init_spark\n",
    "launcher.packages = [\"graphframes:graphframes:0.6.0-spark2.3-s_2.11\"]\n",
    "```"
   ]
  },
  {
   "cell_type": "code",
   "execution_count": 1,
   "metadata": {},
   "outputs": [],
   "source": [
    "%%init_spark\n",
    "launcher.packages = [\"graphframes:graphframes:0.6.0-spark2.3-s_2.11\"]"
   ]
  },
  {
   "cell_type": "code",
   "execution_count": 2,
   "metadata": {},
   "outputs": [
    {
     "data": {
      "text/plain": [
       "Intitializing Scala interpreter ..."
      ]
     },
     "metadata": {},
     "output_type": "display_data"
    },
    {
     "data": {
      "text/plain": [
       "Spark Web UI available at http://6555928d8b2a:4041\n",
       "SparkContext available as 'sc' (version = 2.4.5, master = local[*], app id = local-1590998649824)\n",
       "SparkSession available as 'spark'\n"
      ]
     },
     "metadata": {},
     "output_type": "display_data"
    },
    {
     "data": {
      "text/plain": [
       "import org.graphframes.{examples, GraphFrame}\n",
       "import org.apache.spark.sql.DataFrame\n"
      ]
     },
     "execution_count": 2,
     "metadata": {},
     "output_type": "execute_result"
    }
   ],
   "source": [
    "import org.graphframes.{examples,GraphFrame}\n",
    "import org.apache.spark.sql.DataFrame"
   ]
  },
  {
   "cell_type": "markdown",
   "metadata": {},
   "source": [
    "## Example 1"
   ]
  },
  {
   "cell_type": "code",
   "execution_count": 3,
   "metadata": {},
   "outputs": [
    {
     "data": {
      "text/plain": [
       "sqlContext: org.apache.spark.sql.SQLContext = org.apache.spark.sql.SQLContext@2f99861d\n"
      ]
     },
     "execution_count": 3,
     "metadata": {},
     "output_type": "execute_result"
    }
   ],
   "source": [
    "// creating SQL Context instance to be able to work with DataFrame\n",
    "val sqlContext = new org.apache.spark.sql.SQLContext(sc)"
   ]
  },
  {
   "cell_type": "code",
   "execution_count": 4,
   "metadata": {},
   "outputs": [
    {
     "data": {
      "text/plain": [
       "v: org.apache.spark.sql.DataFrame = [id: string, name: string ... 1 more field]\n"
      ]
     },
     "execution_count": 4,
     "metadata": {},
     "output_type": "execute_result"
    }
   ],
   "source": [
    "// Create a Vertex DataFrame with unique ID column \"id\"\n",
    "val v = sqlContext.createDataFrame(List(\n",
    "  (\"a\", \"Alice\", 34),\n",
    "  (\"b\", \"Bob\", 36),\n",
    "  (\"c\", \"Charlie\", 30),\n",
    "  (\"d\", \"Debra\", 24)\n",
    ")).toDF(\"id\", \"name\", \"age\")"
   ]
  },
  {
   "cell_type": "code",
   "execution_count": 5,
   "metadata": {},
   "outputs": [
    {
     "data": {
      "text/plain": [
       "e: org.apache.spark.sql.DataFrame = [src: string, dst: string ... 1 more field]\n"
      ]
     },
     "execution_count": 5,
     "metadata": {},
     "output_type": "execute_result"
    }
   ],
   "source": [
    "// Create an Edge DataFrame with \"src\" and \"dst\" columns\n",
    "val e = sqlContext.createDataFrame(List(\n",
    "  (\"a\", \"b\", \"friend\"),\n",
    "  (\"a\", \"c\", \"follow\"),\n",
    "  (\"c\", \"b\", \"follow\"),\n",
    "  (\"d\", \"b\", \"follow\")\n",
    ")).toDF(\"src\", \"dst\", \"relationship\")"
   ]
  },
  {
   "cell_type": "code",
   "execution_count": 6,
   "metadata": {},
   "outputs": [
    {
     "data": {
      "text/plain": [
       "g: org.graphframes.GraphFrame = GraphFrame(v:[id: string, name: string ... 1 more field], e:[src: string, dst: string ... 1 more field])\n"
      ]
     },
     "execution_count": 6,
     "metadata": {},
     "output_type": "execute_result"
    }
   ],
   "source": [
    "// Create a GraphFrame\n",
    "val g = GraphFrame(v, e)"
   ]
  },
  {
   "cell_type": "code",
   "execution_count": 7,
   "metadata": {},
   "outputs": [
    {
     "name": "stdout",
     "output_type": "stream",
     "text": [
      "+---+--------+\n",
      "| id|inDegree|\n",
      "+---+--------+\n",
      "|  c|       1|\n",
      "|  b|       3|\n",
      "+---+--------+\n",
      "\n"
     ]
    }
   ],
   "source": [
    "// Query: Get in-degree of each vertex.\n",
    "g.inDegrees.show()"
   ]
  },
  {
   "cell_type": "code",
   "execution_count": 8,
   "metadata": {},
   "outputs": [
    {
     "name": "stdout",
     "output_type": "stream",
     "text": [
      "+---+---------+\n",
      "| id|outDegree|\n",
      "+---+---------+\n",
      "|  d|        1|\n",
      "|  c|        1|\n",
      "|  a|        2|\n",
      "+---+---------+\n",
      "\n"
     ]
    }
   ],
   "source": [
    "// Query: Get out-degree of each vertex.\n",
    "g.outDegrees.show()"
   ]
  },
  {
   "cell_type": "code",
   "execution_count": 9,
   "metadata": {},
   "outputs": [
    {
     "data": {
      "text/plain": [
       "res2: Long = 3\n"
      ]
     },
     "execution_count": 9,
     "metadata": {},
     "output_type": "execute_result"
    }
   ],
   "source": [
    "// Query: Count the number of \"follow\" connections in the graph.\n",
    "g.edges.filter(\"relationship = 'follow'\").count()"
   ]
  },
  {
   "cell_type": "code",
   "execution_count": 10,
   "metadata": {},
   "outputs": [
    {
     "data": {
      "text/plain": [
       "results: org.graphframes.GraphFrame = GraphFrame(v:[id: string, name: string ... 2 more fields], e:[src: string, dst: string ... 2 more fields])\n"
      ]
     },
     "execution_count": 10,
     "metadata": {},
     "output_type": "execute_result"
    }
   ],
   "source": [
    "// Run PageRank algorithm, and show results.\n",
    "val results = g.pageRank.resetProbability(0.01).maxIter(20).run()"
   ]
  },
  {
   "cell_type": "code",
   "execution_count": 11,
   "metadata": {},
   "outputs": [
    {
     "name": "stdout",
     "output_type": "stream",
     "text": [
      "+---+------------------+\n",
      "| id|          pagerank|\n",
      "+---+------------------+\n",
      "|  a|0.5361894357276425|\n",
      "|  b| 2.126017922131889|\n",
      "|  c|0.8016032064128258|\n",
      "|  d|0.5361894357276425|\n",
      "+---+------------------+\n",
      "\n"
     ]
    }
   ],
   "source": [
    "results.vertices.select(\"id\", \"pagerank\").show()"
   ]
  },
  {
   "cell_type": "markdown",
   "metadata": {},
   "source": [
    "## Example 2"
   ]
  },
  {
   "cell_type": "code",
   "execution_count": 12,
   "metadata": {},
   "outputs": [
    {
     "data": {
      "text/plain": [
       "g: org.graphframes.GraphFrame = GraphFrame(v:[id: string, name: string ... 1 more field], e:[src: string, dst: string ... 1 more field])\n"
      ]
     },
     "execution_count": 12,
     "metadata": {},
     "output_type": "execute_result"
    }
   ],
   "source": [
    "// get example graph\n",
    "val g: GraphFrame = examples.Graphs.friends  "
   ]
  },
  {
   "cell_type": "code",
   "execution_count": 13,
   "metadata": {},
   "outputs": [
    {
     "name": "stdout",
     "output_type": "stream",
     "text": [
      "+---+-------+---+\n",
      "| id|   name|age|\n",
      "+---+-------+---+\n",
      "|  a|  Alice| 34|\n",
      "|  b|    Bob| 36|\n",
      "|  c|Charlie| 30|\n",
      "|  d|  David| 29|\n",
      "|  e| Esther| 32|\n",
      "|  f|  Fanny| 36|\n",
      "|  g|  Gabby| 60|\n",
      "+---+-------+---+\n",
      "\n"
     ]
    }
   ],
   "source": [
    "// Display the vertex DataFrames\n",
    "g.vertices.show()"
   ]
  },
  {
   "cell_type": "code",
   "execution_count": 14,
   "metadata": {},
   "outputs": [
    {
     "name": "stdout",
     "output_type": "stream",
     "text": [
      "+---+---+------------+\n",
      "|src|dst|relationship|\n",
      "+---+---+------------+\n",
      "|  a|  b|      friend|\n",
      "|  b|  c|      follow|\n",
      "|  c|  b|      follow|\n",
      "|  f|  c|      follow|\n",
      "|  e|  f|      follow|\n",
      "|  e|  d|      friend|\n",
      "|  d|  a|      friend|\n",
      "|  a|  e|      friend|\n",
      "+---+---+------------+\n",
      "\n"
     ]
    }
   ],
   "source": [
    "// Display the edge DataFrames\n",
    "g.edges.show()"
   ]
  },
  {
   "cell_type": "code",
   "execution_count": 15,
   "metadata": {},
   "outputs": [
    {
     "data": {
      "text/plain": [
       "vertexInDegrees: org.apache.spark.sql.DataFrame = [id: string, inDegree: int]\n"
      ]
     },
     "execution_count": 15,
     "metadata": {},
     "output_type": "execute_result"
    }
   ],
   "source": [
    "// Get a DataFrame with columns \"id\" and \"inDeg\" (in-degree)\n",
    "val vertexInDegrees: DataFrame = g.inDegrees"
   ]
  },
  {
   "cell_type": "code",
   "execution_count": 16,
   "metadata": {},
   "outputs": [
    {
     "name": "stdout",
     "output_type": "stream",
     "text": [
      "+--------+\n",
      "|min(age)|\n",
      "+--------+\n",
      "|      29|\n",
      "+--------+\n",
      "\n"
     ]
    }
   ],
   "source": [
    "// Find the youngest user's age in the graph.\n",
    "// This queries the vertex DataFrame.\n",
    "g.vertices.groupBy().min(\"age\").show()"
   ]
  },
  {
   "cell_type": "code",
   "execution_count": 17,
   "metadata": {},
   "outputs": [
    {
     "data": {
      "text/plain": [
       "numFollows: Long = 4\n"
      ]
     },
     "execution_count": 17,
     "metadata": {},
     "output_type": "execute_result"
    }
   ],
   "source": [
    "// Count the number of \"follows\" in the graph.\n",
    "// This queries the edge DataFrame.\n",
    "val numFollows = g.edges.filter(\"relationship = 'follow'\").count()"
   ]
  },
  {
   "cell_type": "code",
   "execution_count": 18,
   "metadata": {},
   "outputs": [
    {
     "name": "stdout",
     "output_type": "stream",
     "text": [
      "+--------------+\n",
      "|             e|\n",
      "+--------------+\n",
      "|[a, b, friend]|\n",
      "|[b, c, follow]|\n",
      "|[c, b, follow]|\n",
      "|[f, c, follow]|\n",
      "|[e, f, follow]|\n",
      "|[e, d, friend]|\n",
      "|[d, a, friend]|\n",
      "|[a, e, friend]|\n",
      "+--------------+\n",
      "\n"
     ]
    }
   ],
   "source": [
    "// Prints all the edges.\n",
    "g.find(\"()-[e]->()\").show()"
   ]
  },
  {
   "cell_type": "code",
   "execution_count": 19,
   "metadata": {},
   "outputs": [
    {
     "data": {
      "text/plain": [
       "motifs: org.apache.spark.sql.DataFrame = [A: struct<id: string, name: string ... 1 more field>, E1: struct<src: string, dst: string ... 1 more field> ... 2 more fields]\n"
      ]
     },
     "execution_count": 19,
     "metadata": {},
     "output_type": "execute_result"
    }
   ],
   "source": [
    "// Search for pairs of vertices with edges in both directions between them.\n",
    "val motifs= g.find(\"(A)-[E1]->(B); (B)-[E2]->(A)\")"
   ]
  },
  {
   "cell_type": "code",
   "execution_count": 20,
   "metadata": {},
   "outputs": [
    {
     "name": "stdout",
     "output_type": "stream",
     "text": [
      "+----------------+--------------+----------------+--------------+\n",
      "|               A|            E1|               B|            E2|\n",
      "+----------------+--------------+----------------+--------------+\n",
      "|    [b, Bob, 36]|[b, c, follow]|[c, Charlie, 30]|[c, b, follow]|\n",
      "|[c, Charlie, 30]|[c, b, follow]|    [b, Bob, 36]|[b, c, follow]|\n",
      "+----------------+--------------+----------------+--------------+\n",
      "\n"
     ]
    }
   ],
   "source": [
    "motifs.show()"
   ]
  },
  {
   "cell_type": "code",
   "execution_count": 21,
   "metadata": {},
   "outputs": [
    {
     "name": "stdout",
     "output_type": "stream",
     "text": [
      "+----------------+--------------+------------+--------------+\n",
      "|               A|            E1|           B|            E2|\n",
      "+----------------+--------------+------------+--------------+\n",
      "|[c, Charlie, 30]|[c, b, follow]|[b, Bob, 36]|[b, c, follow]|\n",
      "+----------------+--------------+------------+--------------+\n",
      "\n"
     ]
    }
   ],
   "source": [
    "// More complex queries can be expressed by applying filters.\n",
    "motifs.filter(\"B.age > 30\").show()"
   ]
  },
  {
   "cell_type": "code",
   "execution_count": 22,
   "metadata": {},
   "outputs": [
    {
     "data": {
      "text/plain": [
       "results: org.graphframes.GraphFrame = GraphFrame(v:[id: string, name: string ... 2 more fields], e:[src: string, dst: string ... 2 more fields])\n"
      ]
     },
     "execution_count": 22,
     "metadata": {},
     "output_type": "execute_result"
    }
   ],
   "source": [
    "val results = g.pageRank.resetProbability(0.01).maxIter(20).run()"
   ]
  },
  {
   "cell_type": "code",
   "execution_count": 23,
   "metadata": {},
   "outputs": [
    {
     "name": "stdout",
     "output_type": "stream",
     "text": [
      "+---+-------+---+--------------------+\n",
      "| id|   name|age|            pagerank|\n",
      "+---+-------+---+--------------------+\n",
      "|  f|  Fanny| 36| 0.02681335502487603|\n",
      "|  e| Esther| 32| 0.03063858676599769|\n",
      "|  g|  Gabby| 60|0.011647254575707174|\n",
      "|  a|  Alice| 34|0.038250038956939784|\n",
      "|  b|    Bob| 36|  3.6205878323614185|\n",
      "|  c|Charlie| 30|  3.2452495772901853|\n",
      "|  d|  David| 29| 0.02681335502487603|\n",
      "+---+-------+---+--------------------+\n",
      "\n"
     ]
    }
   ],
   "source": [
    "results.vertices.show()"
   ]
  },
  {
   "cell_type": "code",
   "execution_count": 24,
   "metadata": {},
   "outputs": [
    {
     "name": "stdout",
     "output_type": "stream",
     "text": [
      "+---+---+------------+------+\n",
      "|src|dst|relationship|weight|\n",
      "+---+---+------------+------+\n",
      "|  a|  b|      friend|   0.5|\n",
      "|  b|  c|      follow|   1.0|\n",
      "|  e|  f|      follow|   0.5|\n",
      "|  e|  d|      friend|   0.5|\n",
      "|  c|  b|      follow|   1.0|\n",
      "|  a|  e|      friend|   0.5|\n",
      "|  f|  c|      follow|   1.0|\n",
      "|  d|  a|      friend|   1.0|\n",
      "+---+---+------------+------+\n",
      "\n"
     ]
    }
   ],
   "source": [
    "results.edges.show()"
   ]
  }
 ],
 "metadata": {
  "kernelspec": {
   "display_name": "spylon-kernel",
   "language": "scala",
   "name": "spylon-kernel"
  },
  "language_info": {
   "codemirror_mode": "text/x-scala",
   "file_extension": ".scala",
   "help_links": [
    {
     "text": "MetaKernel Magics",
     "url": "https://metakernel.readthedocs.io/en/latest/source/README.html"
    }
   ],
   "mimetype": "text/x-scala",
   "name": "scala",
   "pygments_lexer": "scala",
   "version": "0.4.1"
  }
 },
 "nbformat": 4,
 "nbformat_minor": 4
}
